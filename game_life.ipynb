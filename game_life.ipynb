{
 "cells": [
  {
   "cell_type": "code",
   "execution_count": 1,
   "metadata": {},
   "outputs": [],
   "source": [
    "# from IPython.core.interactiveshell import InteractiveShell\n",
    "# InteractiveShell.ast_node_interactivity = 'all'"
   ]
  },
  {
   "cell_type": "code",
   "execution_count": 2,
   "metadata": {},
   "outputs": [],
   "source": [
    "import numpy as np\n",
    "from time import sleep"
   ]
  },
  {
   "cell_type": "code",
   "execution_count": 3,
   "metadata": {},
   "outputs": [],
   "source": [
    "%matplotlib inline\n",
    "import matplotlib.pyplot as plt\n",
    "\n",
    "from matplotlib import animation, rc\n",
    "from IPython.display import Image"
   ]
  },
  {
   "cell_type": "code",
   "execution_count": 4,
   "metadata": {},
   "outputs": [],
   "source": [
    "# функции связанные с океаном\n",
    "from game_life import (\n",
    "    prob_scaling, init_ocean, get_neighbors_coo, get_neighbors,\n",
    "    is_under_over_population, step_ocean\n",
    ")"
   ]
  },
  {
   "cell_type": "markdown",
   "metadata": {},
   "source": [
    "# Игра «Жизнь»"
   ]
  },
  {
   "cell_type": "markdown",
   "metadata": {},
   "source": [
    "## Simulating"
   ]
  },
  {
   "cell_type": "code",
   "execution_count": 5,
   "metadata": {},
   "outputs": [],
   "source": [
    "# гиперпараметры\n",
    "\n",
    "## размер океана\n",
    "n, m = 50, 50\n",
    "\n",
    "## вероятности\n",
    "p_fish = 0.25\n",
    "p_shrimp = 0.25\n",
    "p_rock = 0.15\n",
    "p_empty = 0.35\n",
    "\n",
    "## зерно случ генератора\n",
    "random_seed = 112358 # None\n",
    "## шкалирование\n",
    "scale = True"
   ]
  },
  {
   "cell_type": "code",
   "execution_count": 6,
   "metadata": {
    "scrolled": false
   },
   "outputs": [
    {
     "data": {
      "text/plain": [
       "array([[2, 0, 2, ..., 1, 3, 2],\n",
       "       [2, 2, 2, ..., 3, 0, 3],\n",
       "       [2, 0, 1, ..., 0, 3, 0],\n",
       "       ...,\n",
       "       [3, 2, 3, ..., 0, 2, 0],\n",
       "       [0, 1, 0, ..., 1, 3, 2],\n",
       "       [2, 2, 1, ..., 3, 0, 2]])"
      ]
     },
     "execution_count": 6,
     "metadata": {},
     "output_type": "execute_result"
    }
   ],
   "source": [
    "# случайная инициализация океана\n",
    "ocean = init_ocean(n, m, scale, random_seed, p_empty, p_rock, p_fish, p_shrimp)\n",
    "ocean"
   ]
  },
  {
   "cell_type": "code",
   "execution_count": 7,
   "metadata": {},
   "outputs": [],
   "source": [
    "# сделать ряд шагов/эпох океана\n",
    "# for _ in range(10):\n",
    "#     ocean = step_ocean(ocean)\n",
    "\n",
    "#     print(ocean)\n",
    "# #     sleep(0.5)"
   ]
  },
  {
   "cell_type": "markdown",
   "metadata": {},
   "source": [
    "## Vizualizarion\n",
    "\n",
    "- [Conway's Game of Life in Python](https://jakevdp.github.io/blog/2013/08/07/conways-game-of-life/)\n",
    "- [Embedding Matplotlib Animations in Jupyter Notebooks](http://louistiao.me/posts/notebooks/embedding-matplotlib-animations-in-jupyter-notebooks/)\n",
    "- [Save Matplotlib Animations as GIFs](http://louistiao.me/posts/notebooks/save-matplotlib-animations-as-gifs/)"
   ]
  },
  {
   "cell_type": "code",
   "execution_count": 8,
   "metadata": {},
   "outputs": [
    {
     "data": {
      "image/png": "[encoded data removed]",
      "text/plain": [
       "<Figure size 600x400 with 2 Axes>"
      ]
     },
     "metadata": {
      "needs_background": "light"
     },
     "output_type": "display_data"
    }
   ],
   "source": [
    "rc('animation', html='html5')\n",
    "fig = plt.figure(dpi=100);\n",
    "\n",
    "im = plt.imshow(ocean, cmap=plt.cm.get_cmap('cubehelix', 4), animated=True)\n",
    "plt.title('Visualisation')\n",
    "cbar = fig.colorbar(im, ticks=range(4))\n",
    "cbar.ax.set_yticklabels(['empty', 'rock', 'fish', 'shrimp'])\n",
    "\n",
    "def init():\n",
    "    global ocean\n",
    "    ocean = init_ocean(n, m, scale, random_seed, p_empty, p_rock, p_fish, p_shrimp)\n",
    "    im.set_data(ocean)\n",
    "    return (im,)\n",
    "\n",
    "def animate(i):\n",
    "    global ocean\n",
    "    im.set_data(ocean)\n",
    "    ocean = step_ocean(ocean)\n",
    "    return (im,)\n",
    "\n",
    "ani = animation.FuncAnimation(\n",
    "    fig,\n",
    "    animate,\n",
    "    frames=50,\n",
    "    init_func=init,\n",
    "    interval=200,\n",
    "    blit=True\n",
    ")\n",
    "\n",
    "plt.tight_layout();"
   ]
  },
  {
   "cell_type": "code",
   "execution_count": 9,
   "metadata": {
    "scrolled": false
   },
   "outputs": [],
   "source": [
    "# Анимация, закомментирована, тк внизу есть рендеринг гифки (для отображения в github)\n",
    "# ani"
   ]
  },
  {
   "cell_type": "code",
   "execution_count": 11,
   "metadata": {},
   "outputs": [],
   "source": [
    "# Save vizualization like `.gif`\n",
    "\n",
    "ani.save(\n",
    "    './img/game_life.gif',\n",
    "    writer='pillow'\n",
    ")"
   ]
  },
  {
   "cell_type": "code",
   "execution_count": 15,
   "metadata": {},
   "outputs": [
    {
     "data": {
      "text/html": [
       "<img src=\"./img/game_life.gif\"/>"
      ],
      "text/plain": [
       "<IPython.core.display.Image object>"
      ]
     },
     "execution_count": 15,
     "metadata": {},
     "output_type": "execute_result"
    }
   ],
   "source": [
    "Image(url='./img/game_life.gif')"
   ]
  },
  {
   "cell_type": "code",
   "execution_count": 10,
   "metadata": {},
   "outputs": [],
   "source": [
    "# Save vizualization like `.mp4`\n",
    "\n",
    "# Set up formatting for the movie files\n",
    "# Writer = animation.writers['ffmpeg']\n",
    "# writer = Writer(fps=15, metadata=dict(artist='Me'), bitrate=1800)\n",
    "\n",
    "ani.save(\n",
    "    './game_life.mp4',\n",
    "#     writer=writer\n",
    ")"
   ]
  }
 ],
 "metadata": {
  "kernelspec": {
   "display_name": "Python 3",
   "language": "python",
   "name": "python3"
  },
  "language_info": {
   "codemirror_mode": {
    "name": "ipython",
    "version": 3
   },
   "file_extension": ".py",
   "mimetype": "text/x-python",
   "name": "python",
   "nbconvert_exporter": "python",
   "pygments_lexer": "ipython3",
   "version": "3.6.6"
  },
  "toc": {
   "base_numbering": 1,
   "nav_menu": {},
   "number_sections": false,
   "sideBar": true,
   "skip_h1_title": false,
   "title_cell": "Table of Contents",
   "title_sidebar": "Contents",
   "toc_cell": false,
   "toc_position": {},
   "toc_section_display": true,
   "toc_window_display": false
  }
 },
 "nbformat": 4,
 "nbformat_minor": 2
}
